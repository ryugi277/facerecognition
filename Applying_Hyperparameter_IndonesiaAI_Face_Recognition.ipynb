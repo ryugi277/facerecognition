{
  "nbformat": 4,
  "nbformat_minor": 0,
  "metadata": {
    "colab": {
      "provenance": [],
      "gpuType": "T4"
    },
    "kernelspec": {
      "name": "python3",
      "display_name": "Python 3"
    },
    "language_info": {
      "name": "python"
    },
    "accelerator": "GPU",
    "widgets": {
      "application/vnd.jupyter.widget-state+json": {
        "99b5e971f47a47ba8d42d86dfcdcb7be": {
          "model_module": "@jupyter-widgets/controls",
          "model_name": "VBoxModel",
          "model_module_version": "1.5.0",
          "state": {
            "_dom_classes": [],
            "_model_module": "@jupyter-widgets/controls",
            "_model_module_version": "1.5.0",
            "_model_name": "VBoxModel",
            "_view_count": null,
            "_view_module": "@jupyter-widgets/controls",
            "_view_module_version": "1.5.0",
            "_view_name": "VBoxView",
            "box_style": "",
            "children": [
              "IPY_MODEL_296bc04281424ceb87958bc6387e83ab"
            ],
            "layout": "IPY_MODEL_f6fbbd8dc2074307b0457814c0443de8"
          }
        },
        "89a5c536e8044d52b4c623ac430ad872": {
          "model_module": "@jupyter-widgets/controls",
          "model_name": "HTMLModel",
          "model_module_version": "1.5.0",
          "state": {
            "_dom_classes": [],
            "_model_module": "@jupyter-widgets/controls",
            "_model_module_version": "1.5.0",
            "_model_name": "HTMLModel",
            "_view_count": null,
            "_view_module": "@jupyter-widgets/controls",
            "_view_module_version": "1.5.0",
            "_view_name": "HTMLView",
            "description": "",
            "description_tooltip": null,
            "layout": "IPY_MODEL_83303eb9336743af80829438c4b945bf",
            "placeholder": "​",
            "style": "IPY_MODEL_8f140b7245ea4e83810a6690f9d6fd53",
            "value": "<center> <img\nsrc=https://www.kaggle.com/static/images/site-logo.png\nalt='Kaggle'> <br> Create an API token from <a\nhref=\"https://www.kaggle.com/settings/account\" target=\"_blank\">your Kaggle\nsettings page</a> and paste it below along with your Kaggle username. <br> </center>"
          }
        },
        "5167004d90ff428995176ac203afd5fb": {
          "model_module": "@jupyter-widgets/controls",
          "model_name": "TextModel",
          "model_module_version": "1.5.0",
          "state": {
            "_dom_classes": [],
            "_model_module": "@jupyter-widgets/controls",
            "_model_module_version": "1.5.0",
            "_model_name": "TextModel",
            "_view_count": null,
            "_view_module": "@jupyter-widgets/controls",
            "_view_module_version": "1.5.0",
            "_view_name": "TextView",
            "continuous_update": true,
            "description": "Username:",
            "description_tooltip": null,
            "disabled": false,
            "layout": "IPY_MODEL_026b4b62f3c944c6830943361df2a091",
            "placeholder": "​",
            "style": "IPY_MODEL_aea191f97ff44febb142d59227f29793",
            "value": "eldintarofarrandi"
          }
        },
        "1911596bb9ab46dcb30f733632ebcea5": {
          "model_module": "@jupyter-widgets/controls",
          "model_name": "PasswordModel",
          "model_module_version": "1.5.0",
          "state": {
            "_dom_classes": [],
            "_model_module": "@jupyter-widgets/controls",
            "_model_module_version": "1.5.0",
            "_model_name": "PasswordModel",
            "_view_count": null,
            "_view_module": "@jupyter-widgets/controls",
            "_view_module_version": "1.5.0",
            "_view_name": "PasswordView",
            "continuous_update": true,
            "description": "Token:",
            "description_tooltip": null,
            "disabled": false,
            "layout": "IPY_MODEL_f91c95b734564de0bcaa39fa052437c6",
            "placeholder": "​",
            "style": "IPY_MODEL_200dc4c1e5a34433a458c4b8981fbf55",
            "value": ""
          }
        },
        "304683eb73db407b849ee384fb3bce24": {
          "model_module": "@jupyter-widgets/controls",
          "model_name": "ButtonModel",
          "model_module_version": "1.5.0",
          "state": {
            "_dom_classes": [],
            "_model_module": "@jupyter-widgets/controls",
            "_model_module_version": "1.5.0",
            "_model_name": "ButtonModel",
            "_view_count": null,
            "_view_module": "@jupyter-widgets/controls",
            "_view_module_version": "1.5.0",
            "_view_name": "ButtonView",
            "button_style": "",
            "description": "Login",
            "disabled": false,
            "icon": "",
            "layout": "IPY_MODEL_a2d37b7f8f17480f8b869148c9e9fcf4",
            "style": "IPY_MODEL_9530efd42dd640adb47caf8fb694872e",
            "tooltip": ""
          }
        },
        "eaa08f9c3c5c400591b726506ad7c7c4": {
          "model_module": "@jupyter-widgets/controls",
          "model_name": "HTMLModel",
          "model_module_version": "1.5.0",
          "state": {
            "_dom_classes": [],
            "_model_module": "@jupyter-widgets/controls",
            "_model_module_version": "1.5.0",
            "_model_name": "HTMLModel",
            "_view_count": null,
            "_view_module": "@jupyter-widgets/controls",
            "_view_module_version": "1.5.0",
            "_view_name": "HTMLView",
            "description": "",
            "description_tooltip": null,
            "layout": "IPY_MODEL_0457c385d543432bae6656565df187fd",
            "placeholder": "​",
            "style": "IPY_MODEL_fea77016adf6404c9eba51cd234de27e",
            "value": "\n<b>Thank You</b></center>"
          }
        },
        "f6fbbd8dc2074307b0457814c0443de8": {
          "model_module": "@jupyter-widgets/base",
          "model_name": "LayoutModel",
          "model_module_version": "1.2.0",
          "state": {
            "_model_module": "@jupyter-widgets/base",
            "_model_module_version": "1.2.0",
            "_model_name": "LayoutModel",
            "_view_count": null,
            "_view_module": "@jupyter-widgets/base",
            "_view_module_version": "1.2.0",
            "_view_name": "LayoutView",
            "align_content": null,
            "align_items": "center",
            "align_self": null,
            "border": null,
            "bottom": null,
            "display": "flex",
            "flex": null,
            "flex_flow": "column",
            "grid_area": null,
            "grid_auto_columns": null,
            "grid_auto_flow": null,
            "grid_auto_rows": null,
            "grid_column": null,
            "grid_gap": null,
            "grid_row": null,
            "grid_template_areas": null,
            "grid_template_columns": null,
            "grid_template_rows": null,
            "height": null,
            "justify_content": null,
            "justify_items": null,
            "left": null,
            "margin": null,
            "max_height": null,
            "max_width": null,
            "min_height": null,
            "min_width": null,
            "object_fit": null,
            "object_position": null,
            "order": null,
            "overflow": null,
            "overflow_x": null,
            "overflow_y": null,
            "padding": null,
            "right": null,
            "top": null,
            "visibility": null,
            "width": "50%"
          }
        },
        "83303eb9336743af80829438c4b945bf": {
          "model_module": "@jupyter-widgets/base",
          "model_name": "LayoutModel",
          "model_module_version": "1.2.0",
          "state": {
            "_model_module": "@jupyter-widgets/base",
            "_model_module_version": "1.2.0",
            "_model_name": "LayoutModel",
            "_view_count": null,
            "_view_module": "@jupyter-widgets/base",
            "_view_module_version": "1.2.0",
            "_view_name": "LayoutView",
            "align_content": null,
            "align_items": null,
            "align_self": null,
            "border": null,
            "bottom": null,
            "display": null,
            "flex": null,
            "flex_flow": null,
            "grid_area": null,
            "grid_auto_columns": null,
            "grid_auto_flow": null,
            "grid_auto_rows": null,
            "grid_column": null,
            "grid_gap": null,
            "grid_row": null,
            "grid_template_areas": null,
            "grid_template_columns": null,
            "grid_template_rows": null,
            "height": null,
            "justify_content": null,
            "justify_items": null,
            "left": null,
            "margin": null,
            "max_height": null,
            "max_width": null,
            "min_height": null,
            "min_width": null,
            "object_fit": null,
            "object_position": null,
            "order": null,
            "overflow": null,
            "overflow_x": null,
            "overflow_y": null,
            "padding": null,
            "right": null,
            "top": null,
            "visibility": null,
            "width": null
          }
        },
        "8f140b7245ea4e83810a6690f9d6fd53": {
          "model_module": "@jupyter-widgets/controls",
          "model_name": "DescriptionStyleModel",
          "model_module_version": "1.5.0",
          "state": {
            "_model_module": "@jupyter-widgets/controls",
            "_model_module_version": "1.5.0",
            "_model_name": "DescriptionStyleModel",
            "_view_count": null,
            "_view_module": "@jupyter-widgets/base",
            "_view_module_version": "1.2.0",
            "_view_name": "StyleView",
            "description_width": ""
          }
        },
        "026b4b62f3c944c6830943361df2a091": {
          "model_module": "@jupyter-widgets/base",
          "model_name": "LayoutModel",
          "model_module_version": "1.2.0",
          "state": {
            "_model_module": "@jupyter-widgets/base",
            "_model_module_version": "1.2.0",
            "_model_name": "LayoutModel",
            "_view_count": null,
            "_view_module": "@jupyter-widgets/base",
            "_view_module_version": "1.2.0",
            "_view_name": "LayoutView",
            "align_content": null,
            "align_items": null,
            "align_self": null,
            "border": null,
            "bottom": null,
            "display": null,
            "flex": null,
            "flex_flow": null,
            "grid_area": null,
            "grid_auto_columns": null,
            "grid_auto_flow": null,
            "grid_auto_rows": null,
            "grid_column": null,
            "grid_gap": null,
            "grid_row": null,
            "grid_template_areas": null,
            "grid_template_columns": null,
            "grid_template_rows": null,
            "height": null,
            "justify_content": null,
            "justify_items": null,
            "left": null,
            "margin": null,
            "max_height": null,
            "max_width": null,
            "min_height": null,
            "min_width": null,
            "object_fit": null,
            "object_position": null,
            "order": null,
            "overflow": null,
            "overflow_x": null,
            "overflow_y": null,
            "padding": null,
            "right": null,
            "top": null,
            "visibility": null,
            "width": null
          }
        },
        "aea191f97ff44febb142d59227f29793": {
          "model_module": "@jupyter-widgets/controls",
          "model_name": "DescriptionStyleModel",
          "model_module_version": "1.5.0",
          "state": {
            "_model_module": "@jupyter-widgets/controls",
            "_model_module_version": "1.5.0",
            "_model_name": "DescriptionStyleModel",
            "_view_count": null,
            "_view_module": "@jupyter-widgets/base",
            "_view_module_version": "1.2.0",
            "_view_name": "StyleView",
            "description_width": ""
          }
        },
        "f91c95b734564de0bcaa39fa052437c6": {
          "model_module": "@jupyter-widgets/base",
          "model_name": "LayoutModel",
          "model_module_version": "1.2.0",
          "state": {
            "_model_module": "@jupyter-widgets/base",
            "_model_module_version": "1.2.0",
            "_model_name": "LayoutModel",
            "_view_count": null,
            "_view_module": "@jupyter-widgets/base",
            "_view_module_version": "1.2.0",
            "_view_name": "LayoutView",
            "align_content": null,
            "align_items": null,
            "align_self": null,
            "border": null,
            "bottom": null,
            "display": null,
            "flex": null,
            "flex_flow": null,
            "grid_area": null,
            "grid_auto_columns": null,
            "grid_auto_flow": null,
            "grid_auto_rows": null,
            "grid_column": null,
            "grid_gap": null,
            "grid_row": null,
            "grid_template_areas": null,
            "grid_template_columns": null,
            "grid_template_rows": null,
            "height": null,
            "justify_content": null,
            "justify_items": null,
            "left": null,
            "margin": null,
            "max_height": null,
            "max_width": null,
            "min_height": null,
            "min_width": null,
            "object_fit": null,
            "object_position": null,
            "order": null,
            "overflow": null,
            "overflow_x": null,
            "overflow_y": null,
            "padding": null,
            "right": null,
            "top": null,
            "visibility": null,
            "width": null
          }
        },
        "200dc4c1e5a34433a458c4b8981fbf55": {
          "model_module": "@jupyter-widgets/controls",
          "model_name": "DescriptionStyleModel",
          "model_module_version": "1.5.0",
          "state": {
            "_model_module": "@jupyter-widgets/controls",
            "_model_module_version": "1.5.0",
            "_model_name": "DescriptionStyleModel",
            "_view_count": null,
            "_view_module": "@jupyter-widgets/base",
            "_view_module_version": "1.2.0",
            "_view_name": "StyleView",
            "description_width": ""
          }
        },
        "a2d37b7f8f17480f8b869148c9e9fcf4": {
          "model_module": "@jupyter-widgets/base",
          "model_name": "LayoutModel",
          "model_module_version": "1.2.0",
          "state": {
            "_model_module": "@jupyter-widgets/base",
            "_model_module_version": "1.2.0",
            "_model_name": "LayoutModel",
            "_view_count": null,
            "_view_module": "@jupyter-widgets/base",
            "_view_module_version": "1.2.0",
            "_view_name": "LayoutView",
            "align_content": null,
            "align_items": null,
            "align_self": null,
            "border": null,
            "bottom": null,
            "display": null,
            "flex": null,
            "flex_flow": null,
            "grid_area": null,
            "grid_auto_columns": null,
            "grid_auto_flow": null,
            "grid_auto_rows": null,
            "grid_column": null,
            "grid_gap": null,
            "grid_row": null,
            "grid_template_areas": null,
            "grid_template_columns": null,
            "grid_template_rows": null,
            "height": null,
            "justify_content": null,
            "justify_items": null,
            "left": null,
            "margin": null,
            "max_height": null,
            "max_width": null,
            "min_height": null,
            "min_width": null,
            "object_fit": null,
            "object_position": null,
            "order": null,
            "overflow": null,
            "overflow_x": null,
            "overflow_y": null,
            "padding": null,
            "right": null,
            "top": null,
            "visibility": null,
            "width": null
          }
        },
        "9530efd42dd640adb47caf8fb694872e": {
          "model_module": "@jupyter-widgets/controls",
          "model_name": "ButtonStyleModel",
          "model_module_version": "1.5.0",
          "state": {
            "_model_module": "@jupyter-widgets/controls",
            "_model_module_version": "1.5.0",
            "_model_name": "ButtonStyleModel",
            "_view_count": null,
            "_view_module": "@jupyter-widgets/base",
            "_view_module_version": "1.2.0",
            "_view_name": "StyleView",
            "button_color": null,
            "font_weight": ""
          }
        },
        "0457c385d543432bae6656565df187fd": {
          "model_module": "@jupyter-widgets/base",
          "model_name": "LayoutModel",
          "model_module_version": "1.2.0",
          "state": {
            "_model_module": "@jupyter-widgets/base",
            "_model_module_version": "1.2.0",
            "_model_name": "LayoutModel",
            "_view_count": null,
            "_view_module": "@jupyter-widgets/base",
            "_view_module_version": "1.2.0",
            "_view_name": "LayoutView",
            "align_content": null,
            "align_items": null,
            "align_self": null,
            "border": null,
            "bottom": null,
            "display": null,
            "flex": null,
            "flex_flow": null,
            "grid_area": null,
            "grid_auto_columns": null,
            "grid_auto_flow": null,
            "grid_auto_rows": null,
            "grid_column": null,
            "grid_gap": null,
            "grid_row": null,
            "grid_template_areas": null,
            "grid_template_columns": null,
            "grid_template_rows": null,
            "height": null,
            "justify_content": null,
            "justify_items": null,
            "left": null,
            "margin": null,
            "max_height": null,
            "max_width": null,
            "min_height": null,
            "min_width": null,
            "object_fit": null,
            "object_position": null,
            "order": null,
            "overflow": null,
            "overflow_x": null,
            "overflow_y": null,
            "padding": null,
            "right": null,
            "top": null,
            "visibility": null,
            "width": null
          }
        },
        "fea77016adf6404c9eba51cd234de27e": {
          "model_module": "@jupyter-widgets/controls",
          "model_name": "DescriptionStyleModel",
          "model_module_version": "1.5.0",
          "state": {
            "_model_module": "@jupyter-widgets/controls",
            "_model_module_version": "1.5.0",
            "_model_name": "DescriptionStyleModel",
            "_view_count": null,
            "_view_module": "@jupyter-widgets/base",
            "_view_module_version": "1.2.0",
            "_view_name": "StyleView",
            "description_width": ""
          }
        },
        "e72c67a34c544e0ab4bee3b4c4b1e80c": {
          "model_module": "@jupyter-widgets/controls",
          "model_name": "LabelModel",
          "model_module_version": "1.5.0",
          "state": {
            "_dom_classes": [],
            "_model_module": "@jupyter-widgets/controls",
            "_model_module_version": "1.5.0",
            "_model_name": "LabelModel",
            "_view_count": null,
            "_view_module": "@jupyter-widgets/controls",
            "_view_module_version": "1.5.0",
            "_view_name": "LabelView",
            "description": "",
            "description_tooltip": null,
            "layout": "IPY_MODEL_e4ac074945bf4825851edcd113aba03e",
            "placeholder": "​",
            "style": "IPY_MODEL_5479226ed6174f75a7b683568de934f3",
            "value": "Connecting..."
          }
        },
        "e4ac074945bf4825851edcd113aba03e": {
          "model_module": "@jupyter-widgets/base",
          "model_name": "LayoutModel",
          "model_module_version": "1.2.0",
          "state": {
            "_model_module": "@jupyter-widgets/base",
            "_model_module_version": "1.2.0",
            "_model_name": "LayoutModel",
            "_view_count": null,
            "_view_module": "@jupyter-widgets/base",
            "_view_module_version": "1.2.0",
            "_view_name": "LayoutView",
            "align_content": null,
            "align_items": null,
            "align_self": null,
            "border": null,
            "bottom": null,
            "display": null,
            "flex": null,
            "flex_flow": null,
            "grid_area": null,
            "grid_auto_columns": null,
            "grid_auto_flow": null,
            "grid_auto_rows": null,
            "grid_column": null,
            "grid_gap": null,
            "grid_row": null,
            "grid_template_areas": null,
            "grid_template_columns": null,
            "grid_template_rows": null,
            "height": null,
            "justify_content": null,
            "justify_items": null,
            "left": null,
            "margin": null,
            "max_height": null,
            "max_width": null,
            "min_height": null,
            "min_width": null,
            "object_fit": null,
            "object_position": null,
            "order": null,
            "overflow": null,
            "overflow_x": null,
            "overflow_y": null,
            "padding": null,
            "right": null,
            "top": null,
            "visibility": null,
            "width": null
          }
        },
        "5479226ed6174f75a7b683568de934f3": {
          "model_module": "@jupyter-widgets/controls",
          "model_name": "DescriptionStyleModel",
          "model_module_version": "1.5.0",
          "state": {
            "_model_module": "@jupyter-widgets/controls",
            "_model_module_version": "1.5.0",
            "_model_name": "DescriptionStyleModel",
            "_view_count": null,
            "_view_module": "@jupyter-widgets/base",
            "_view_module_version": "1.2.0",
            "_view_name": "StyleView",
            "description_width": ""
          }
        },
        "296bc04281424ceb87958bc6387e83ab": {
          "model_module": "@jupyter-widgets/controls",
          "model_name": "LabelModel",
          "model_module_version": "1.5.0",
          "state": {
            "_dom_classes": [],
            "_model_module": "@jupyter-widgets/controls",
            "_model_module_version": "1.5.0",
            "_model_name": "LabelModel",
            "_view_count": null,
            "_view_module": "@jupyter-widgets/controls",
            "_view_module_version": "1.5.0",
            "_view_name": "LabelView",
            "description": "",
            "description_tooltip": null,
            "layout": "IPY_MODEL_81a56ef3df6e4f8d9d269aea1d443dba",
            "placeholder": "​",
            "style": "IPY_MODEL_04618338dad244b389eea38ab462fb86",
            "value": "Kaggle credentials successfully validated."
          }
        },
        "81a56ef3df6e4f8d9d269aea1d443dba": {
          "model_module": "@jupyter-widgets/base",
          "model_name": "LayoutModel",
          "model_module_version": "1.2.0",
          "state": {
            "_model_module": "@jupyter-widgets/base",
            "_model_module_version": "1.2.0",
            "_model_name": "LayoutModel",
            "_view_count": null,
            "_view_module": "@jupyter-widgets/base",
            "_view_module_version": "1.2.0",
            "_view_name": "LayoutView",
            "align_content": null,
            "align_items": null,
            "align_self": null,
            "border": null,
            "bottom": null,
            "display": null,
            "flex": null,
            "flex_flow": null,
            "grid_area": null,
            "grid_auto_columns": null,
            "grid_auto_flow": null,
            "grid_auto_rows": null,
            "grid_column": null,
            "grid_gap": null,
            "grid_row": null,
            "grid_template_areas": null,
            "grid_template_columns": null,
            "grid_template_rows": null,
            "height": null,
            "justify_content": null,
            "justify_items": null,
            "left": null,
            "margin": null,
            "max_height": null,
            "max_width": null,
            "min_height": null,
            "min_width": null,
            "object_fit": null,
            "object_position": null,
            "order": null,
            "overflow": null,
            "overflow_x": null,
            "overflow_y": null,
            "padding": null,
            "right": null,
            "top": null,
            "visibility": null,
            "width": null
          }
        },
        "04618338dad244b389eea38ab462fb86": {
          "model_module": "@jupyter-widgets/controls",
          "model_name": "DescriptionStyleModel",
          "model_module_version": "1.5.0",
          "state": {
            "_model_module": "@jupyter-widgets/controls",
            "_model_module_version": "1.5.0",
            "_model_name": "DescriptionStyleModel",
            "_view_count": null,
            "_view_module": "@jupyter-widgets/base",
            "_view_module_version": "1.2.0",
            "_view_name": "StyleView",
            "description_width": ""
          }
        }
      }
    }
  },
  "cells": [
    {
      "cell_type": "code",
      "source": [
        "# IMPORTANT: SOME KAGGLE DATA SOURCES ARE PRIVATE\n",
        "# RUN THIS CELL IN ORDER TO IMPORT YOUR KAGGLE DATA SOURCES.\n",
        "import kagglehub\n",
        "kagglehub.login()"
      ],
      "metadata": {
        "colab": {
          "base_uri": "https://localhost:8080/",
          "height": 101,
          "referenced_widgets": [
            "99b5e971f47a47ba8d42d86dfcdcb7be",
            "89a5c536e8044d52b4c623ac430ad872",
            "5167004d90ff428995176ac203afd5fb",
            "1911596bb9ab46dcb30f733632ebcea5",
            "304683eb73db407b849ee384fb3bce24",
            "eaa08f9c3c5c400591b726506ad7c7c4",
            "f6fbbd8dc2074307b0457814c0443de8",
            "83303eb9336743af80829438c4b945bf",
            "8f140b7245ea4e83810a6690f9d6fd53",
            "026b4b62f3c944c6830943361df2a091",
            "aea191f97ff44febb142d59227f29793",
            "f91c95b734564de0bcaa39fa052437c6",
            "200dc4c1e5a34433a458c4b8981fbf55",
            "a2d37b7f8f17480f8b869148c9e9fcf4",
            "9530efd42dd640adb47caf8fb694872e",
            "0457c385d543432bae6656565df187fd",
            "fea77016adf6404c9eba51cd234de27e",
            "e72c67a34c544e0ab4bee3b4c4b1e80c",
            "e4ac074945bf4825851edcd113aba03e",
            "5479226ed6174f75a7b683568de934f3",
            "296bc04281424ceb87958bc6387e83ab",
            "81a56ef3df6e4f8d9d269aea1d443dba",
            "04618338dad244b389eea38ab462fb86"
          ]
        },
        "id": "Q86cAhUWTKUA",
        "outputId": "f16daeec-5ec9-4c92-e2cb-f86fee3e8fea"
      },
      "execution_count": null,
      "outputs": [
        {
          "output_type": "display_data",
          "data": {
            "text/plain": [
              "VBox(children=(HTML(value='<center> <img\\nsrc=https://www.kaggle.com/static/images/site-logo.png\\nalt=\\'Kaggle…"
            ],
            "application/vnd.jupyter.widget-view+json": {
              "version_major": 2,
              "version_minor": 0,
              "model_id": "99b5e971f47a47ba8d42d86dfcdcb7be"
            }
          },
          "metadata": {}
        },
        {
          "output_type": "stream",
          "name": "stdout",
          "text": [
            "Kaggle credentials set.\n",
            "Warning: Looks like you're using an outdated `kagglehub` version (installed: 0.3.6), please consider upgrading to the latest version (0.3.7).\n",
            "Kaggle credentials successfully validated.\n"
          ]
        }
      ]
    },
    {
      "cell_type": "markdown",
      "source": [
        "username: eldintarofarrandi\n",
        "\n",
        "token: fe7783d3adfd15bfb333309c12c300ed"
      ],
      "metadata": {
        "id": "SJhRIcmJaxYJ"
      }
    },
    {
      "cell_type": "code",
      "source": [
        "# IMPORTANT: RUN THIS CELL IN ORDER TO IMPORT YOUR KAGGLE DATA SOURCES,\n",
        "# THEN FEEL FREE TO DELETE THIS CELL.\n",
        "# NOTE: THIS NOTEBOOK ENVIRONMENT DIFFERS FROM KAGGLE'S PYTHON\n",
        "# ENVIRONMENT SO THERE MAY BE MISSING LIBRARIES USED BY YOUR\n",
        "# NOTEBOOK.\n",
        "\n",
        "eldintarofarrandi_celeba_path = kagglehub.dataset_download('eldintarofarrandi/celeba')\n",
        "\n",
        "print('Data source import complete.')\n"
      ],
      "metadata": {
        "colab": {
          "base_uri": "https://localhost:8080/"
        },
        "id": "kVCoWgXHTLXH",
        "outputId": "3a338be6-8397-49e0-b881-3bce201912fc"
      },
      "execution_count": null,
      "outputs": [
        {
          "output_type": "stream",
          "name": "stdout",
          "text": [
            "Warning: Looks like you're using an outdated `kagglehub` version (installed: 0.3.6), please consider upgrading to the latest version (0.3.7).\n",
            "Downloading from https://www.kaggle.com/api/v1/datasets/download/eldintarofarrandi/celeba?dataset_version_number=1...\n"
          ]
        },
        {
          "output_type": "stream",
          "name": "stderr",
          "text": [
            "100%|██████████| 273M/273M [00:15<00:00, 18.1MB/s]"
          ]
        },
        {
          "output_type": "stream",
          "name": "stdout",
          "text": [
            "Extracting files...\n"
          ]
        },
        {
          "output_type": "stream",
          "name": "stderr",
          "text": [
            "\n"
          ]
        },
        {
          "output_type": "stream",
          "name": "stdout",
          "text": [
            "Data source import complete.\n"
          ]
        }
      ]
    },
    {
      "cell_type": "code",
      "execution_count": null,
      "metadata": {
        "id": "pYhC3pd-e_5K"
      },
      "outputs": [],
      "source": [
        "import os\n",
        "import pandas as pd\n",
        "import random\n",
        "from sklearn.model_selection import train_test_split\n",
        "from sklearn.metrics import accuracy_score, classification_report, confusion_matrix\n",
        "import torch\n",
        "from torch.utils.data import Dataset, DataLoader\n",
        "from torchvision import transforms, models\n",
        "import torch.nn as nn\n",
        "import torch.optim as optim\n",
        "from torch.autograd import Variable\n",
        "from PIL import Image\n",
        "import matplotlib.pyplot as plt\n",
        "import seaborn as sns\n",
        "import time"
      ]
    },
    {
      "cell_type": "code",
      "source": [
        "folder_path = os.path.join(eldintarofarrandi_celeba_path, \"Dataset/Images\")\n",
        "files_images = os.listdir(folder_path)\n",
        "print(len(files_images))"
      ],
      "metadata": {
        "colab": {
          "base_uri": "https://localhost:8080/"
        },
        "id": "QRGGhLWP_fPd",
        "outputId": "50f581b4-e5fa-44b5-9106-e3487f8169aa"
      },
      "execution_count": null,
      "outputs": [
        {
          "output_type": "stream",
          "name": "stdout",
          "text": [
            "5017\n"
          ]
        }
      ]
    },
    {
      "cell_type": "code",
      "source": [
        "#detect duplication\n",
        "\n",
        "duplicates = []\n",
        "# Loop untuk memeriksa file duplikasi\n",
        "for file_name in files_images:\n",
        "    if \"(1)\" in file_name:\n",
        "        original_file_name = file_name.replace(\"(1)\", \"\")\n",
        "        if original_file_name in files_images:\n",
        "            duplicates.append(file_name)\n",
        "\n",
        "print(f'Jumlah gambar duplikat yang ditemukan: {len(duplicates)}')\n",
        "print('Daftar file duplikat:')\n",
        "for duplicate in duplicates:\n",
        "    print(duplicate)"
      ],
      "metadata": {
        "colab": {
          "base_uri": "https://localhost:8080/"
        },
        "id": "xfINssGd_ws3",
        "outputId": "b4cd0f20-a214-4d51-9e84-adc88b5191a4"
      },
      "execution_count": null,
      "outputs": [
        {
          "output_type": "stream",
          "name": "stdout",
          "text": [
            "Jumlah gambar duplikat yang ditemukan: 17\n",
            "Daftar file duplikat:\n",
            "189651(1).jpg\n",
            "189132(1).jpg\n",
            "183018(1).jpg\n",
            "183145(1).jpg\n",
            "189297(1).jpg\n",
            "183050(1).jpg\n",
            "189512(1).jpg\n",
            "182912(1).jpg\n",
            "189513(1).jpg\n",
            "189581(1).jpg\n",
            "189324(1).jpg\n",
            "182809(1).jpg\n",
            "182943(1).jpg\n",
            "182793(1).jpg\n",
            "183005(1).jpg\n",
            "183111(1).jpg\n",
            "183121(1).jpg\n"
          ]
        }
      ]
    },
    {
      "cell_type": "code",
      "source": [
        "# Mengumpulkan file images yang bukan duplikat\n",
        "duplicates_set = set(duplicates)\n",
        "\n",
        "# Filter file yang bukan duplikat\n",
        "filtered_images = [file for file in files_images if file not in duplicates_set]\n",
        "\n",
        "print(f'Total gambar setelah filter duplikat: {len(filtered_images)}')"
      ],
      "metadata": {
        "colab": {
          "base_uri": "https://localhost:8080/"
        },
        "id": "AKN24b1m_3W2",
        "outputId": "aec00862-f811-42a6-868f-814205d91f5d"
      },
      "execution_count": null,
      "outputs": [
        {
          "output_type": "stream",
          "name": "stdout",
          "text": [
            "Total gambar setelah filter duplikat: 5000\n"
          ]
        }
      ]
    },
    {
      "cell_type": "code",
      "source": [
        "#membaca list attributes\n",
        "\n",
        "attributes_path = os.path.join(eldintarofarrandi_celeba_path, 'Dataset/list_attribute.txt')\n",
        "\n",
        "# Membaca file baris per baris\n",
        "data = []\n",
        "with open(attributes_path, 'r') as file:\n",
        "    lines = file.readlines()\n",
        "\n",
        "header_line = lines[1].strip().split()\n",
        "\n",
        "for line in lines[2:]:\n",
        "    parts = line.strip().split()\n",
        "    if len(parts) == 41:\n",
        "        data.append(parts)\n",
        "\n",
        "attributes = pd.DataFrame(data)\n",
        "\n",
        "# Menambahkan nama kolom id_images\n",
        "attributes.columns = ['id_images'] + header_line\n",
        "\n",
        "for col in header_line:\n",
        "    attributes[col] = attributes[col].astype(int)\n",
        "\n",
        "# Mengganti -1 dengan 0\n",
        "attributes.replace(-1, 0, inplace=True)\n",
        "\n",
        "#mapping gambar ke atribut\n",
        "\n",
        "filtered_attributes = attributes[attributes['id_images'].isin(filtered_images)]"
      ],
      "metadata": {
        "id": "6J95sJhWAEQn"
      },
      "execution_count": null,
      "outputs": []
    },
    {
      "cell_type": "code",
      "source": [
        "#data preprocessing\n",
        "\n",
        "transform = transforms.Compose([\n",
        "    transforms.RandomHorizontalFlip(),\n",
        "    transforms.RandomRotation(15),\n",
        "    transforms.Resize((224, 224)),\n",
        "    transforms.ToTensor(),\n",
        "    transforms.Normalize(mean=[0.5, 0.5, 0.5], std=[0.5, 0.5, 0.5])\n",
        "])\n",
        "\n",
        "class GenderDataset(Dataset):\n",
        "    def __init__(self, image_dir, dataframe, transform=None):\n",
        "        self.image_dir = image_dir\n",
        "        self.dataframe = dataframe\n",
        "        self.transform = transform\n",
        "\n",
        "    def __len__(self):\n",
        "        return len(self.dataframe)\n",
        "\n",
        "    def __getitem__(self, idx):\n",
        "        img_name = os.path.join(self.image_dir, self.dataframe.iloc[idx, 0])\n",
        "        label = torch.tensor(self.dataframe.iloc[idx, 1], dtype=torch.long)\n",
        "        image = Image.open(img_name)\n",
        "        if self.transform:\n",
        "            image = self.transform(image)\n",
        "        return image, label"
      ],
      "metadata": {
        "id": "R4Cb8VIDFz9b"
      },
      "execution_count": null,
      "outputs": []
    },
    {
      "cell_type": "code",
      "source": [
        "#data splitting\n",
        "\n",
        "batch_size = 128\n",
        "learning_rate = 0.001\n",
        "epochs = 10\n",
        "\n",
        "filtered_attributes = filtered_attributes[['id_images', 'Male']]\n",
        "\n",
        "# split the data into train and test sets with a 80:20 ratio\n",
        "train_attributes, test_attributes = train_test_split(filtered_attributes, test_size=0.2, random_state=42)\n",
        "\n",
        "image_dir = os.path.join(eldintarofarrandi_celeba_path, \"Dataset/Images\")"
      ],
      "metadata": {
        "id": "PeGyLeEwF6bi"
      },
      "execution_count": null,
      "outputs": []
    },
    {
      "cell_type": "code",
      "source": [
        "print(train_attributes['Male'].value_counts())\n",
        "print(test_attributes['Male'].value_counts())"
      ],
      "metadata": {
        "colab": {
          "base_uri": "https://localhost:8080/"
        },
        "id": "i916kNpOGKV4",
        "outputId": "9526c311-2b49-4b5f-94c1-bb253799e0af"
      },
      "execution_count": null,
      "outputs": [
        {
          "output_type": "stream",
          "name": "stdout",
          "text": [
            "Male\n",
            "0    2357\n",
            "1    1643\n",
            "Name: count, dtype: int64\n",
            "Male\n",
            "0    596\n",
            "1    404\n",
            "Name: count, dtype: int64\n"
          ]
        }
      ]
    },
    {
      "cell_type": "markdown",
      "source": [
        "# GoogleNet\n",
        "{'learning_rate': 0.0001, 'batch_size': 8, 'num_epochs': 15}"
      ],
      "metadata": {
        "id": "Xvmot5iIm6Rt"
      }
    },
    {
      "cell_type": "code",
      "source": [
        "train_data = GenderDataset(image_dir, train_attributes, transform=transform)\n",
        "trainloader = DataLoader(train_data, batch_size=8, shuffle=True)\n",
        "test_data = GenderDataset(image_dir, test_attributes, transform=transform)\n",
        "testloader = DataLoader(test_data, batch_size=8, shuffle=False)"
      ],
      "metadata": {
        "id": "cApyipgWnKUU"
      },
      "execution_count": null,
      "outputs": []
    },
    {
      "cell_type": "code",
      "source": [
        "learning_rate = 0.0001\n",
        "epochs = 15\n",
        "\n",
        "model = models.googlenet(weights=models.GoogLeNet_Weights.DEFAULT)\n",
        "model.fc = nn.Linear(model.fc.in_features, 2)\n",
        "device = torch.device(\"cuda\" if torch.cuda.is_available() else \"cpu\")\n",
        "model = model.to(device)\n",
        "\n",
        "criterion = nn.CrossEntropyLoss()\n",
        "optimizer = optim.Adam(model.parameters(), lr=learning_rate)\n",
        "\n",
        "since = time.time()\n",
        "best_model_wts = model.state_dict()\n",
        "best_acc = 0.0\n",
        "train_accuracies = []\n",
        "test_accuracies = []\n",
        "\n",
        "for epoch in range(epochs):\n",
        "    running_loss = 0.0\n",
        "    correct = 0\n",
        "    total = 0\n",
        "\n",
        "    model.train()\n",
        "    for i, data in enumerate(trainloader, 0):\n",
        "\n",
        "        inputs, labels = data\n",
        "        inputs, labels = inputs.to(device), labels.to(device)\n",
        "\n",
        "        optimizer.zero_grad()\n",
        "\n",
        "        outputs = model(inputs)\n",
        "        loss = criterion(outputs, labels)\n",
        "\n",
        "        loss.backward()\n",
        "        optimizer.step()\n",
        "\n",
        "        running_loss += loss.item()\n",
        "        _, predicted = torch.max(outputs.data, 1)\n",
        "        total += labels.size(0)\n",
        "        correct += (predicted == labels).sum().item()\n",
        "\n",
        "        # if i % 30 == 29:\n",
        "        #     print('[Epoch %d, Batch %5d] loss: %.3f' %\n",
        "        #           (epoch + 1, i + 1, running_loss / 30))\n",
        "        #     running_loss = 0.0\n",
        "\n",
        "    train_acc = 100 * correct / total\n",
        "    train_accuracies.append(train_acc)\n",
        "    print(f'Training Accuracy: {train_acc:.2f}%')\n",
        "\n",
        "    model.eval()\n",
        "    correct = 0\n",
        "    total = 0\n",
        "    running_loss = 0.0\n",
        "    all_preds = []\n",
        "    all_labels = []\n",
        "\n",
        "    with torch.no_grad():\n",
        "        for data in testloader:\n",
        "            images, labels = data\n",
        "            images, labels = images.to(device), labels.to(device)\n",
        "\n",
        "            outputs = model(images)\n",
        "            loss = criterion(outputs, labels)\n",
        "            running_loss += loss.item()\n",
        "\n",
        "            _, predicted = torch.max(outputs.data, 1)\n",
        "            total += labels.size(0)\n",
        "            correct += (predicted == labels).sum().item()\n",
        "\n",
        "            all_preds.extend(predicted.cpu().numpy())\n",
        "            all_labels.extend(labels.cpu().numpy())\n",
        "\n",
        "    epoch_acc = 100 * correct / total\n",
        "    epoch_loss = running_loss / len(testloader)\n",
        "    test_accuracies.append(epoch_acc)\n",
        "    print(f'Test Loss: {epoch_loss:.4f} | Test Accuracy: {epoch_acc:.2f}%')\n",
        "\n",
        "    if epoch_acc > best_acc:\n",
        "        best_acc = epoch_acc\n",
        "        best_model_wts = model.state_dict()\n",
        "\n",
        "time_elapsed = time.time() - since\n",
        "print('Training complete in {:.0f}m {:.0f}s'.format(time_elapsed // 60, time_elapsed % 60))\n",
        "print('Best test accuracy: {:4f}'.format(best_acc))\n",
        "\n",
        "model.load_state_dict(best_model_wts)"
      ],
      "metadata": {
        "colab": {
          "base_uri": "https://localhost:8080/"
        },
        "id": "MYqOD33DGP5r",
        "outputId": "f0c26834-8d9b-4dd1-8aab-ff5f145fe84e"
      },
      "execution_count": null,
      "outputs": [
        {
          "output_type": "stream",
          "name": "stdout",
          "text": [
            "Training Accuracy: 89.17%\n",
            "Test Loss: 0.1166 | Test Accuracy: 95.80%\n",
            "Training Accuracy: 93.58%\n",
            "Test Loss: 0.1047 | Test Accuracy: 96.10%\n",
            "Training Accuracy: 96.12%\n",
            "Test Loss: 0.0754 | Test Accuracy: 97.70%\n",
            "Training Accuracy: 97.15%\n",
            "Test Loss: 0.0817 | Test Accuracy: 97.20%\n",
            "Training Accuracy: 98.30%\n",
            "Test Loss: 0.0924 | Test Accuracy: 97.10%\n",
            "Training Accuracy: 98.67%\n",
            "Test Loss: 0.0968 | Test Accuracy: 97.30%\n",
            "Training Accuracy: 98.58%\n",
            "Test Loss: 0.0814 | Test Accuracy: 97.50%\n",
            "Training Accuracy: 98.78%\n",
            "Test Loss: 0.0836 | Test Accuracy: 97.50%\n",
            "Training Accuracy: 98.67%\n",
            "Test Loss: 0.1120 | Test Accuracy: 96.40%\n",
            "Training Accuracy: 99.15%\n",
            "Test Loss: 0.0958 | Test Accuracy: 96.90%\n",
            "Training Accuracy: 98.90%\n",
            "Test Loss: 0.0883 | Test Accuracy: 97.80%\n",
            "Training Accuracy: 99.03%\n",
            "Test Loss: 0.0894 | Test Accuracy: 97.80%\n",
            "Training Accuracy: 99.38%\n",
            "Test Loss: 0.1013 | Test Accuracy: 97.00%\n",
            "Training Accuracy: 99.12%\n",
            "Test Loss: 0.0763 | Test Accuracy: 98.00%\n",
            "Training Accuracy: 99.33%\n",
            "Test Loss: 0.1068 | Test Accuracy: 97.20%\n",
            "Training complete in 8m 14s\n",
            "Best test accuracy: 98.000000\n"
          ]
        },
        {
          "output_type": "execute_result",
          "data": {
            "text/plain": [
              "<All keys matched successfully>"
            ]
          },
          "metadata": {},
          "execution_count": 13
        }
      ]
    },
    {
      "cell_type": "code",
      "source": [
        "def plot_confusion_matrix(cm, classes):\n",
        "    plt.figure(figsize=(8, 6))\n",
        "    sns.heatmap(cm, annot=True, fmt='d', cmap='Blues', xticklabels=classes, yticklabels=classes)\n",
        "    plt.title('Confusion Matrix Model GoogLeNet')\n",
        "    plt.xlabel('Predicted Label')\n",
        "    plt.ylabel('True Label')\n",
        "    plt.savefig('confusion_matrix_GoogLeNet.png')\n",
        "    plt.show()\n",
        "\n",
        "cm = confusion_matrix(all_labels, all_preds)\n",
        "plot_confusion_matrix(cm, classes=['Female', 'Male'])\n",
        "\n",
        "report = classification_report(all_labels, all_preds, target_names=['Female', 'Male'])\n",
        "print(\"Classification Report:\")\n",
        "print(report)\n",
        "\n",
        "plt.figure(figsize=(8, 6))\n",
        "plt.plot(range(1, epochs + 1), train_accuracies, label='Training Accuracy', marker='o')\n",
        "plt.plot(range(1, epochs + 1), test_accuracies, label='Testing Accuracy', marker='o')\n",
        "plt.title('Training and Testing Accuracy Model GoogLeNet')\n",
        "plt.xlabel('Epochs')\n",
        "plt.ylabel('Accuracy (%)')\n",
        "plt.legend()\n",
        "plt.grid()\n",
        "plt.savefig('accuracy_chart_GoogLeNet.png')\n",
        "plt.show()"
      ],
      "metadata": {
        "id": "OR43nJHPVFil",
        "colab": {
          "base_uri": "https://localhost:8080/",
          "height": 1000
        },
        "outputId": "d5338e00-d3d2-45da-804f-4173779d6c28"
      },
      "execution_count": null,
      "outputs": [
        {
          "output_type": "display_data",
          "data": {
            "text/plain": [
              "<Figure size 800x600 with 2 Axes>"
            ],
            "image/png": "[encoded data removed]"
          },
          "metadata": {}
        },
        {
          "output_type": "stream",
          "name": "stdout",
          "text": [
            "Classification Report:\n",
            "              precision    recall  f1-score   support\n",
            "\n",
            "      Female       0.98      0.98      0.98       596\n",
            "        Male       0.97      0.97      0.97       404\n",
            "\n",
            "    accuracy                           0.97      1000\n",
            "   macro avg       0.97      0.97      0.97      1000\n",
            "weighted avg       0.97      0.97      0.97      1000\n",
            "\n"
          ]
        },
        {
          "output_type": "display_data",
          "data": {
            "text/plain": [
              "<Figure size 800x600 with 1 Axes>"
            ],
            "image/png": "[encoded data removed]"
          },
          "metadata": {}
        }
      ]
    },
    {
      "cell_type": "code",
      "source": [
        "torch.save(best_model_wts, 'best_googleNet.pth')"
      ],
      "metadata": {
        "id": "XKpBMKrflecx"
      },
      "execution_count": null,
      "outputs": []
    },
    {
      "cell_type": "markdown",
      "source": [
        "# Resnet\n",
        "{'learning_rate': 1e-05, 'batch_size': 8, 'num_epochs': 15}"
      ],
      "metadata": {
        "id": "iyZsGNhonYac"
      }
    },
    {
      "cell_type": "code",
      "source": [
        "train_data = GenderDataset(image_dir, train_attributes, transform=transform)\n",
        "trainloader = DataLoader(train_data, batch_size=8, shuffle=True)\n",
        "test_data = GenderDataset(image_dir, test_attributes, transform=transform)\n",
        "testloader = DataLoader(test_data, batch_size=8, shuffle=False)"
      ],
      "metadata": {
        "id": "jhM_NX3dntk3"
      },
      "execution_count": null,
      "outputs": []
    },
    {
      "cell_type": "code",
      "source": [
        "learning_rate = 0.00001\n",
        "epochs = 15\n",
        "\n",
        "model = models.resnet18(weights=models.ResNet18_Weights.DEFAULT)\n",
        "model.fc = nn.Linear(model.fc.in_features, 2)\n",
        "device = torch.device(\"cuda\" if torch.cuda.is_available() else \"cpu\")\n",
        "model = model.to(device)\n",
        "\n",
        "criterion = nn.CrossEntropyLoss()\n",
        "optimizer = optim.Adam(model.parameters(), lr=learning_rate)\n",
        "\n",
        "since = time.time()\n",
        "best_model_wts = model.state_dict()\n",
        "best_acc = 0.0\n",
        "train_accuracies = []\n",
        "test_accuracies = []\n",
        "\n",
        "for epoch in range(epochs):\n",
        "    running_loss = 0.0\n",
        "    correct = 0\n",
        "    total = 0\n",
        "\n",
        "    model.train()\n",
        "    for i, data in enumerate(trainloader, 0):\n",
        "\n",
        "        inputs, labels = data\n",
        "        inputs, labels = inputs.to(device), labels.to(device)\n",
        "\n",
        "        optimizer.zero_grad()\n",
        "\n",
        "        outputs = model(inputs)\n",
        "        loss = criterion(outputs, labels)\n",
        "\n",
        "        loss.backward()\n",
        "        optimizer.step()\n",
        "\n",
        "        running_loss += loss.item()\n",
        "        _, predicted = torch.max(outputs.data, 1)\n",
        "        total += labels.size(0)\n",
        "        correct += (predicted == labels).sum().item()\n",
        "\n",
        "        # if i % 30 == 29:\n",
        "        #     print('[Epoch %d, Batch %5d] loss: %.3f' %\n",
        "        #           (epoch + 1, i + 1, running_loss / 30))\n",
        "        #     running_loss = 0.0\n",
        "\n",
        "    train_acc = 100 * correct / total\n",
        "    train_accuracies.append(train_acc)\n",
        "    print(f'Training Accuracy: {train_acc:.2f}%')\n",
        "\n",
        "    model.eval()\n",
        "    correct = 0\n",
        "    total = 0\n",
        "    running_loss = 0.0\n",
        "    all_preds = []\n",
        "    all_labels = []\n",
        "\n",
        "    with torch.no_grad():\n",
        "        for data in testloader:\n",
        "            images, labels = data\n",
        "            images, labels = images.to(device), labels.to(device)\n",
        "\n",
        "            outputs = model(images)\n",
        "            loss = criterion(outputs, labels)\n",
        "            running_loss += loss.item()\n",
        "\n",
        "            _, predicted = torch.max(outputs.data, 1)\n",
        "            total += labels.size(0)\n",
        "            correct += (predicted == labels).sum().item()\n",
        "\n",
        "            all_preds.extend(predicted.cpu().numpy())\n",
        "            all_labels.extend(labels.cpu().numpy())\n",
        "\n",
        "    epoch_acc = 100 * correct / total\n",
        "    epoch_loss = running_loss / len(testloader)\n",
        "    test_accuracies.append(epoch_acc)\n",
        "    print(f'Test Loss: {epoch_loss:.4f} | Test Accuracy: {epoch_acc:.2f}%')\n",
        "\n",
        "    if epoch_acc > best_acc:\n",
        "        best_acc = epoch_acc\n",
        "        best_model_wts = model.state_dict()\n",
        "\n",
        "time_elapsed = time.time() - since\n",
        "print('Training complete in {:.0f}m {:.0f}s'.format(time_elapsed // 60, time_elapsed % 60))\n",
        "print('Best test accuracy: {:4f}'.format(best_acc))\n",
        "\n",
        "model.load_state_dict(best_model_wts)"
      ],
      "metadata": {
        "colab": {
          "base_uri": "https://localhost:8080/"
        },
        "id": "l5ky6PKqnVrY",
        "outputId": "91d469f9-9558-4fcc-f36e-ef9f000514ea"
      },
      "execution_count": null,
      "outputs": [
        {
          "output_type": "stream",
          "name": "stdout",
          "text": [
            "Training Accuracy: 86.47%\n",
            "Test Loss: 0.1568 | Test Accuracy: 94.70%\n",
            "Training Accuracy: 92.50%\n",
            "Test Loss: 0.1212 | Test Accuracy: 96.10%\n",
            "Training Accuracy: 93.85%\n",
            "Test Loss: 0.1054 | Test Accuracy: 96.80%\n",
            "Training Accuracy: 95.60%\n",
            "Test Loss: 0.0973 | Test Accuracy: 96.70%\n",
            "Training Accuracy: 96.40%\n",
            "Test Loss: 0.1019 | Test Accuracy: 96.80%\n",
            "Training Accuracy: 96.88%\n",
            "Test Loss: 0.0902 | Test Accuracy: 97.20%\n",
            "Training Accuracy: 97.60%\n",
            "Test Loss: 0.0892 | Test Accuracy: 97.10%\n",
            "Training Accuracy: 97.78%\n",
            "Test Loss: 0.0930 | Test Accuracy: 97.10%\n",
            "Training Accuracy: 97.53%\n",
            "Test Loss: 0.0793 | Test Accuracy: 97.20%\n",
            "Training Accuracy: 97.67%\n",
            "Test Loss: 0.0842 | Test Accuracy: 97.50%\n",
            "Training Accuracy: 98.50%\n",
            "Test Loss: 0.0687 | Test Accuracy: 98.20%\n",
            "Training Accuracy: 98.42%\n",
            "Test Loss: 0.0736 | Test Accuracy: 97.70%\n",
            "Training Accuracy: 98.60%\n",
            "Test Loss: 0.0841 | Test Accuracy: 97.30%\n",
            "Training Accuracy: 99.08%\n",
            "Test Loss: 0.0816 | Test Accuracy: 96.90%\n",
            "Training Accuracy: 99.03%\n",
            "Test Loss: 0.0878 | Test Accuracy: 97.30%\n",
            "Training complete in 7m 41s\n",
            "Best test accuracy: 98.200000\n"
          ]
        },
        {
          "output_type": "execute_result",
          "data": {
            "text/plain": [
              "<All keys matched successfully>"
            ]
          },
          "metadata": {},
          "execution_count": 31
        }
      ]
    },
    {
      "cell_type": "code",
      "source": [
        "def plot_confusion_matrix(cm, classes):\n",
        "    plt.figure(figsize=(8, 6))\n",
        "    sns.heatmap(cm, annot=True, fmt='d', cmap='Blues', xticklabels=classes, yticklabels=classes)\n",
        "    plt.title('Confusion Matrix Model Resnet')\n",
        "    plt.xlabel('Predicted Label')\n",
        "    plt.ylabel('True Label')\n",
        "    plt.savefig('confusion_matrix_Resnet.png')\n",
        "    plt.show()\n",
        "\n",
        "cm = confusion_matrix(all_labels, all_preds)\n",
        "plot_confusion_matrix(cm, classes=['Female', 'Male'])\n",
        "\n",
        "report = classification_report(all_labels, all_preds, target_names=['Female', 'Male'])\n",
        "print(\"Classification Report:\")\n",
        "print(report)\n",
        "\n",
        "plt.figure(figsize=(8, 6))\n",
        "plt.plot(range(1, epochs + 1), train_accuracies, label='Training Accuracy', marker='o')\n",
        "plt.plot(range(1, epochs + 1), test_accuracies, label='Testing Accuracy', marker='o')\n",
        "plt.title('Training and Testing Accuracy Model Resnet')\n",
        "plt.xlabel('Epochs')\n",
        "plt.ylabel('Accuracy (%)')\n",
        "plt.legend()\n",
        "plt.grid()\n",
        "plt.savefig('accuracy_chart_Resnet.png')\n",
        "plt.show()"
      ],
      "metadata": {
        "colab": {
          "base_uri": "https://localhost:8080/",
          "height": 1000
        },
        "id": "5UNV9rZmneTs",
        "outputId": "f1ed67a7-60c8-4716-b8f5-7cb27acdbb60"
      },
      "execution_count": null,
      "outputs": [
        {
          "output_type": "display_data",
          "data": {
            "text/plain": [
              "<Figure size 800x600 with 2 Axes>"
            ],
            "image/png": "[encoded data removed]"
          },
          "metadata": {}
        },
        {
          "output_type": "stream",
          "name": "stdout",
          "text": [
            "Classification Report:\n",
            "              precision    recall  f1-score   support\n",
            "\n",
            "      Female       0.99      0.96      0.98       596\n",
            "        Male       0.95      0.99      0.97       404\n",
            "\n",
            "    accuracy                           0.97      1000\n",
            "   macro avg       0.97      0.97      0.97      1000\n",
            "weighted avg       0.97      0.97      0.97      1000\n",
            "\n"
          ]
        },
        {
          "output_type": "display_data",
          "data": {
            "text/plain": [
              "<Figure size 800x600 with 1 Axes>"
            ],
            "image/png": "[encoded data removed]"
          },
          "metadata": {}
        }
      ]
    },
    {
      "cell_type": "code",
      "source": [
        "torch.save(best_model_wts, 'best_Resnet.pth')"
      ],
      "metadata": {
        "id": "gJr9HW3Bnztc"
      },
      "execution_count": null,
      "outputs": []
    },
    {
      "cell_type": "markdown",
      "source": [
        "# VGG\n",
        "[lr=1e-05, batch_size=128, epochs=25]"
      ],
      "metadata": {
        "id": "dTs6-a2Wn0aq"
      }
    },
    {
      "cell_type": "code",
      "source": [
        "train_data = GenderDataset(image_dir, train_attributes, transform=transform)\n",
        "trainloader = DataLoader(train_data, batch_size=128, shuffle=True)\n",
        "test_data = GenderDataset(image_dir, test_attributes, transform=transform)\n",
        "testloader = DataLoader(test_data, batch_size=128, shuffle=False)"
      ],
      "metadata": {
        "id": "PdF_g2bDn29y"
      },
      "execution_count": null,
      "outputs": []
    },
    {
      "cell_type": "code",
      "source": [
        "learning_rate = 0.00001\n",
        "epochs = 25\n",
        "\n",
        "model = models.vgg16(weights=models.VGG16_Weights.DEFAULT)\n",
        "model.classifier[6] = nn.Linear(4096, 2)\n",
        "# Change the device to 'cpu' to run on the CPU\n",
        "device = torch.device(\"cuda\" if torch.cuda.is_available() else \"cpu\") # Check for GPU availability\n",
        "model = model.to(device) # Move model to the appropriate device\n",
        "criterion = nn.CrossEntropyLoss()\n",
        "optimizer = optim.Adam(model.parameters(), lr=learning_rate)\n",
        "\n",
        "\n",
        "since = time.time()\n",
        "best_model_wts = model.state_dict()\n",
        "best_acc = 0.0\n",
        "\n",
        "train_accuracies = []\n",
        "test_accuracies = []\n",
        "\n",
        "# Train the model\n",
        "for epoch in range(epochs):\n",
        "    running_loss = 0.0\n",
        "    correct = 0\n",
        "    total = 0\n",
        "\n",
        "    model.train()\n",
        "    for i, data in enumerate(trainloader, 0):\n",
        "        # Get the inputs\n",
        "        inputs, labels = data\n",
        "        inputs, labels = inputs.to('cuda'), labels.to('cuda')\n",
        "\n",
        "        # Zero the parameter gradients\n",
        "        optimizer.zero_grad()\n",
        "\n",
        "        # Forward + backward + optimize\n",
        "        outputs = model(inputs)\n",
        "        loss = criterion(outputs, labels)\n",
        "        loss.backward()\n",
        "        optimizer.step()\n",
        "\n",
        "        # Accumulate loss and accuracy\n",
        "        running_loss += loss.item()\n",
        "        _, predicted = torch.max(outputs.data, 1)\n",
        "        total += labels.size(0)\n",
        "        correct += (predicted == labels).sum().item()\n",
        "\n",
        "        # Print statistics every 30 mini-batches\n",
        "        # if i % 30 == 29:\n",
        "        #     print('[Epoch %d, Batch %5d] loss: %.3f' %\n",
        "        #           (epoch + 1, i + 1, running_loss / 30))\n",
        "        #     running_loss = 0.0\n",
        "\n",
        "    # Calculate training accuracy\n",
        "    train_acc = 100 * correct / total\n",
        "    train_accuracies.append(train_acc)\n",
        "    print(f'Training Accuracy: {train_acc:.2f}%')\n",
        "\n",
        "    # Test the model\n",
        "    model.eval()\n",
        "    correct = 0\n",
        "    total = 0\n",
        "    running_loss = 0.0\n",
        "    all_preds = []\n",
        "    all_labels = []\n",
        "    with torch.no_grad():\n",
        "        for data in testloader:\n",
        "            images, labels = data\n",
        "            images, labels = images.to('cuda'), labels.to('cuda')\n",
        "            outputs = model(images)\n",
        "            loss = criterion(outputs, labels)\n",
        "            running_loss += loss.item()\n",
        "            _, predicted = torch.max(outputs.data, 1)\n",
        "            total += labels.size(0)\n",
        "            correct += (predicted == labels).sum().item()\n",
        "            all_preds.extend(predicted.cpu().numpy())\n",
        "            all_labels.extend(labels.cpu().numpy())\n",
        "\n",
        "    epoch_acc = 100 * correct / total\n",
        "    epoch_loss = running_loss / len(testloader)\n",
        "    test_accuracies.append(epoch_acc)\n",
        "    print(f'Test Loss: {epoch_loss:.4f} | Test Accuracy: {epoch_acc:.2f}%')\n",
        "\n",
        "    # Save the model if it has the best accuracy so far\n",
        "    if epoch_acc > best_acc:\n",
        "        best_acc = epoch_acc\n",
        "        best_model_wts = model.state_dict()\n",
        "\n",
        "# Total time elapsed\n",
        "time_elapsed = time.time() - since\n",
        "print('Training complete in {:.0f}m {:.0f}s'.format(time_elapsed // 60, time_elapsed % 60))\n",
        "print('Best test accuracy: {:4f}'.format(best_acc))\n",
        "\n",
        "model.load_state_dict(best_model_wts)"
      ],
      "metadata": {
        "colab": {
          "base_uri": "https://localhost:8080/"
        },
        "id": "JJdaziXromeI",
        "outputId": "146757f9-19a9-4a2a-efc0-5bb17df7763f"
      },
      "execution_count": null,
      "outputs": [
        {
          "output_type": "stream",
          "name": "stdout",
          "text": [
            "Training Accuracy: 79.90%\n",
            "Test Loss: 0.2178 | Test Accuracy: 91.60%\n",
            "Training Accuracy: 92.03%\n",
            "Test Loss: 0.1712 | Test Accuracy: 93.10%\n",
            "Training Accuracy: 93.65%\n",
            "Test Loss: 0.1841 | Test Accuracy: 92.50%\n",
            "Training Accuracy: 95.12%\n",
            "Test Loss: 0.1420 | Test Accuracy: 94.50%\n",
            "Training Accuracy: 96.17%\n",
            "Test Loss: 0.1097 | Test Accuracy: 96.20%\n",
            "Training Accuracy: 96.75%\n",
            "Test Loss: 0.1256 | Test Accuracy: 95.90%\n",
            "Training Accuracy: 97.00%\n",
            "Test Loss: 0.1104 | Test Accuracy: 95.30%\n",
            "Training Accuracy: 97.60%\n",
            "Test Loss: 0.1044 | Test Accuracy: 96.30%\n",
            "Training Accuracy: 97.78%\n",
            "Test Loss: 0.1453 | Test Accuracy: 95.10%\n",
            "Training Accuracy: 98.22%\n",
            "Test Loss: 0.1134 | Test Accuracy: 96.40%\n",
            "Training Accuracy: 98.30%\n",
            "Test Loss: 0.1451 | Test Accuracy: 95.60%\n",
            "Training Accuracy: 98.75%\n",
            "Test Loss: 0.1397 | Test Accuracy: 95.40%\n",
            "Training Accuracy: 98.72%\n",
            "Test Loss: 0.1114 | Test Accuracy: 96.80%\n",
            "Training Accuracy: 99.12%\n",
            "Test Loss: 0.1085 | Test Accuracy: 97.00%\n",
            "Training Accuracy: 99.42%\n",
            "Test Loss: 0.1291 | Test Accuracy: 96.60%\n",
            "Training Accuracy: 99.28%\n",
            "Test Loss: 0.1441 | Test Accuracy: 96.10%\n",
            "Training Accuracy: 99.42%\n",
            "Test Loss: 0.1175 | Test Accuracy: 96.70%\n",
            "Training Accuracy: 99.62%\n",
            "Test Loss: 0.1264 | Test Accuracy: 96.70%\n",
            "Training Accuracy: 99.62%\n",
            "Test Loss: 0.1212 | Test Accuracy: 97.50%\n",
            "Training Accuracy: 99.60%\n",
            "Test Loss: 0.1341 | Test Accuracy: 96.40%\n",
            "Training Accuracy: 99.88%\n",
            "Test Loss: 0.1555 | Test Accuracy: 96.20%\n",
            "Training Accuracy: 99.65%\n",
            "Test Loss: 0.1305 | Test Accuracy: 97.10%\n",
            "Training Accuracy: 99.88%\n",
            "Test Loss: 0.1469 | Test Accuracy: 96.70%\n",
            "Training Accuracy: 99.88%\n",
            "Test Loss: 0.1311 | Test Accuracy: 96.90%\n",
            "Training Accuracy: 99.80%\n",
            "Test Loss: 0.1376 | Test Accuracy: 97.30%\n",
            "Training complete in 32m 45s\n",
            "Best test accuracy: 97.500000\n"
          ]
        },
        {
          "output_type": "execute_result",
          "data": {
            "text/plain": [
              "<All keys matched successfully>"
            ]
          },
          "metadata": {},
          "execution_count": 26
        }
      ]
    },
    {
      "cell_type": "code",
      "source": [
        "import seaborn as sns\n",
        "from sklearn.metrics import confusion_matrix, classification_report\n",
        "\n",
        "# Plot confusion matrix\n",
        "def plot_confusion_matrix(cm, classes):\n",
        "    plt.figure(figsize=(8, 6))\n",
        "    sns.heatmap(cm, annot=True, fmt='d', cmap='Blues', xticklabels=classes, yticklabels=classes)\n",
        "    plt.title('Confusion Matrix Model VGG16')\n",
        "    plt.xlabel('Predicted Label')\n",
        "    plt.ylabel('True Label')\n",
        "    plt.savefig('confusion_matrix_vgg16.png')\n",
        "    plt.show()\n",
        "\n",
        "# Calculate and plot confusion matrix\n",
        "cm = confusion_matrix(all_labels, all_preds)\n",
        "plot_confusion_matrix(cm, classes=['Female', 'Male'])\n",
        "\n",
        "# Print classification report\n",
        "report = classification_report(all_labels, all_preds, target_names=['Female', 'Male'])\n",
        "print(\"Classification Report:\")\n",
        "print(report)\n",
        "\n",
        "# Plotting accuracy chart\n",
        "plt.figure(figsize=(8, 6))\n",
        "plt.plot(range(1, epochs + 1), train_accuracies, label='Training Accuracy', marker='o')\n",
        "plt.plot(range(1, epochs + 1), test_accuracies, label='Testing Accuracy', marker='o')\n",
        "plt.title('Training and Testing Accuracy Model VGG16')\n",
        "plt.xlabel('Epochs')\n",
        "plt.ylabel('Accuracy (%)')\n",
        "plt.legend()\n",
        "plt.grid()\n",
        "plt.savefig('accuracy_chart_vgg16.png')\n",
        "plt.show()"
      ],
      "metadata": {
        "colab": {
          "base_uri": "https://localhost:8080/",
          "height": 1000
        },
        "id": "uhnec7seon7L",
        "outputId": "5627acf8-403d-4805-bb21-3c0738642105"
      },
      "execution_count": null,
      "outputs": [
        {
          "output_type": "display_data",
          "data": {
            "text/plain": [
              "<Figure size 800x600 with 2 Axes>"
            ],
            "image/png": "[encoded data removed]"
          },
          "metadata": {}
        },
        {
          "output_type": "stream",
          "name": "stdout",
          "text": [
            "Classification Report:\n",
            "              precision    recall  f1-score   support\n",
            "\n",
            "      Female       0.97      0.98      0.98       596\n",
            "        Male       0.97      0.96      0.97       404\n",
            "\n",
            "    accuracy                           0.97      1000\n",
            "   macro avg       0.97      0.97      0.97      1000\n",
            "weighted avg       0.97      0.97      0.97      1000\n",
            "\n"
          ]
        },
        {
          "output_type": "display_data",
          "data": {
            "text/plain": [
              "<Figure size 800x600 with 1 Axes>"
            ],
            "image/png": "[encoded data removed]"
          },
          "metadata": {}
        }
      ]
    },
    {
      "cell_type": "code",
      "source": [
        "torch.save(best_model_wts, 'best_vgg.pth')"
      ],
      "metadata": {
        "id": "nTnfBN3LpxKi"
      },
      "execution_count": null,
      "outputs": []
    }
  ]
}